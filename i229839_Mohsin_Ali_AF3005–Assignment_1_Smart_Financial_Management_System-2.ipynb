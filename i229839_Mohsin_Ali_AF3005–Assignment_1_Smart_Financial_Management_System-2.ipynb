{
 "cells": [
  {
   "cell_type": "markdown",
   "metadata": {
    "id": "5SRLdaqmHtmP"
   },
   "source": [
    "# **AF3005 – Programming for Finance**  \n",
    "\n",
    "---\n",
    "\n",
    "## **📘 Assignment 1: Smart Financial Management System**  \n",
    "\n",
    "📍 **FAST National University of Computer and Emerging Sciences (FAST-NUCES), Islamabad**  \n",
    "👨‍🏫 **Instructor:** Dr. Usama Arshad (Assistant Professor, FSM)  \n",
    "🎓 **Program:** BS Financial Technology (BSFT)  \n",
    "📅 **Semester:** Spring 2025  \n",
    "📌 **Sections:** BSFT06A, BSFT06B, BSFT06C  \n",
    "\n",
    "---\n",
    "\n",
    "## **🎯 Course Learning Outcomes (CLOs)**  \n",
    "- **CLO1:** Write Python programs to solve basic financial problems.  \n",
    "- **CLO2:** Perform data manipulation and analysis using Python libraries.  \n",
    "\n",
    "---\n",
    "\n",
    "\n",
    "\n",
    "\n",
    "\n",
    "\n",
    "\n",
    "\n",
    "\n",
    "\n",
    "\n"
   ]
  },
  {
   "cell_type": "markdown",
   "metadata": {
    "id": "wXgvxhSVQXNz"
   },
   "source": [
    "\n",
    "# **🟢 Deadline: 15th February 2025**\n",
    "\n",
    "---\n",
    "\n"
   ]
  },
  {
   "cell_type": "markdown",
   "metadata": {
    "id": "mHDXP18hMn3A"
   },
   "source": [
    "## **📥 Submission Guidelines**\n",
    "- **File Format:** Submit your assignment as a Jupyter Notebook file (`.ipynb`).\n",
    "- **Naming Convention:** Use the format `[Your_regno]_AF3005_Assignment1.ipynb`.\n",
    "- **Submission Platform:** Upload your file to **Google Classroom** under the assigned submission.\n",
    "- **GitHub Repository:**\n",
    "  - Create a GitHub repository named `AF3005_ProgrammingForFinance`.\n",
    "  - Upload your `.ipynb` file.\n",
    "  - Ensure the repository is structured properly with a `README.md` explaining the implementation.\n",
    "  - The implementation must include `ipywidgets` for interactive elements.\n",
    "  - Share the GitHub repository link in Google Classroom submission with file.\n",
    "\n",
    "---\n",
    "\n",
    "---\n",
    "\n"
   ]
  },
  {
   "cell_type": "markdown",
   "metadata": {
    "id": "XEanO5EiLdC9"
   },
   "source": [
    "# **🟢 Scenario: Smart Financial Management System [20 marks]**  \n",
    "\n",
    "\n",
    "---\n",
    "\n",
    "\n",
    "SecureBank wants to develop an **automated financial management system** using Python. Your task is to implement different financial operations step by step.\n",
    "\n",
    "This system will:  \n",
    "✅ **Assess customer eligibility for loans.**  \n",
    "✅ **Classify investment portfolios based on risk.**  \n",
    "✅ **Automate loan repayment tracking.**  \n",
    "✅ **Monitor stock market trends and trigger alerts.**  \n",
    "✅ **Track currency exchange rates and suggest conversions.**  \n",
    "\n",
    "Your task is to **break down the requirements, write a structured plan, and implement the logic step by step** using **ipywidgets** for interactive user inputs.\n",
    "\n",
    "---\n",
    "\n"
   ]
  },
  {
   "cell_type": "markdown",
   "metadata": {
    "id": "sIKHzkmkLYYM"
   },
   "source": [
    "## **🟢 Part 1: Loan Eligibility & Interest Rate Calculation [4 marks]**  \n",
    "\n",
    "📌 **Requirement:**  \n",
    "SecureBank only approves loans if the **customer meets all eligibility criteria**. The system should:  \n",
    "✔ **Check if the customer is employed.**  \n",
    "✔ **Verify if the income is at least PKR 50,000.**  \n",
    "✔ **Check credit score:**  \n",
    "   - **750+ → 5% Interest Rate**  \n",
    "   - **650 - 749 → 8% Interest Rate**  \n",
    "   - **Below 650 → Loan Rejected**  \n",
    "✔ **If the applicant is unemployed, the loan is rejected immediately.**  \n",
    "\n",
    "### **Implementation Steps:**  \n",
    "🔹 **Step 1:** Structure the `if-elif-else` statements for this logic.  \n",
    "🔹 **Step 2:** Implement a Python program using **ipywidgets** for interactive user input (income, credit score, employment status) to decide whether the loan is approved or rejected.\n",
    "\n",
    "---"
   ]
  },
  {
   "cell_type": "code",
   "execution_count": null,
   "metadata": {
    "colab": {
     "base_uri": "https://localhost:8080/",
     "height": 177,
     "referenced_widgets": [
      "27988a9cf0724ab28940f07f010b4dfa",
      "eddf5b2970334dfbb29fab751c3aaafb",
      "445a780bd88d4ef1a37287adb13ebe25",
      "36147a689fbf4abc8ee58a57fc257f36",
      "ea644f594ae64ec48ba5991f8e32bb18",
      "3fea6ff8c7624bb6addab9ce55deaba9",
      "bd6ebc1a08174f0cbb3bdd9a26a4dfcc",
      "ecdaf7a989ab4bb1a04404da491dfd09",
      "dfa6f509668b4540a8d773561a09b6ba",
      "f61d6f1e79f04c73bf0f08dee7b26083",
      "fe0ebd762dec487ebf02b1d7d7f09162",
      "555f58f65f0443ee8f7f7ab1f40c1885",
      "95634a066a6c46859c9b32275f3a40d3",
      "dd66a86d57f743d391005e78ef701211"
     ]
    },
    "id": "JnoBYZkTKqRw",
    "outputId": "0f4dd9cc-e4cb-411a-e138-5a5d33985932"
   },
   "outputs": [
    {
     "data": {
      "application/vnd.jupyter.widget-view+json": {
       "model_id": "27988a9cf0724ab28940f07f010b4dfa",
       "version_major": 2,
       "version_minor": 0
      },
      "text/plain": [
       "IntText(value=0, description='Income (PKR):')"
      ]
     },
     "metadata": {},
     "output_type": "display_data"
    },
    {
     "data": {
      "application/vnd.jupyter.widget-view+json": {
       "model_id": "36147a689fbf4abc8ee58a57fc257f36",
       "version_major": 2,
       "version_minor": 0
      },
      "text/plain": [
       "IntText(value=0, description='Credit Score:')"
      ]
     },
     "metadata": {},
     "output_type": "display_data"
    },
    {
     "data": {
      "application/vnd.jupyter.widget-view+json": {
       "model_id": "bd6ebc1a08174f0cbb3bdd9a26a4dfcc",
       "version_major": 2,
       "version_minor": 0
      },
      "text/plain": [
       "Dropdown(description='Employment:', options=('Employed', 'Unemployed'), value='Employed')"
      ]
     },
     "metadata": {},
     "output_type": "display_data"
    },
    {
     "data": {
      "application/vnd.jupyter.widget-view+json": {
       "model_id": "f61d6f1e79f04c73bf0f08dee7b26083",
       "version_major": 2,
       "version_minor": 0
      },
      "text/plain": [
       "Button(description='Check Loan Eligibility', style=ButtonStyle())"
      ]
     },
     "metadata": {},
     "output_type": "display_data"
    },
    {
     "data": {
      "application/vnd.jupyter.widget-view+json": {
       "model_id": "95634a066a6c46859c9b32275f3a40d3",
       "version_major": 2,
       "version_minor": 0
      },
      "text/plain": [
       "Output()"
      ]
     },
     "metadata": {},
     "output_type": "display_data"
    }
   ],
   "source": [
    "import ipywidgets as widgets\n",
    "from IPython.display import display\n",
    "\n",
    "def loan_eligibility(income, credit_score, employment_status):\n",
    "    if employment_status == 'Unemployed':\n",
    "        return \"Loan Rejected: Unemployed\"\n",
    "    if income < 50000:\n",
    "        return \"Loan Rejected: Income below required\"\n",
    "\n",
    "    if credit_score >= 750:\n",
    "        return \"Loan Approved with 5% Interest Rate\"\n",
    "    elif 650 <= credit_score < 750:\n",
    "        return \"Loan Approved with 8% Interest Rate\"\n",
    "    else:\n",
    "        return \"Loan Rejected: Credit Score below threshold\"\n",
    "\n",
    "\n",
    "income_input = widgets.IntText(value= 0, description='Income (PKR):')\n",
    "credit_score_input = widgets.IntText(value=0, description='Credit Score:')\n",
    "employment_status_input = widgets.Dropdown(options=['Employed', 'Unemployed'], value='Employed', description='Employment:')\n",
    "\n",
    "\n",
    "submit_button = widgets.Button(description=\"Check Loan Eligibility\")\n",
    "output = widgets.Output()\n",
    "\n",
    "def on_button_click(b):\n",
    "    with output:\n",
    "        result = loan_eligibility(income_input.value, credit_score_input.value, employment_status_input.value)\n",
    "        print(result)\n",
    "\n",
    "submit_button.on_click(on_button_click)\n",
    "display(income_input, credit_score_input, employment_status_input, submit_button, output)\n"
   ]
  },
  {
   "cell_type": "markdown",
   "metadata": {
    "id": "s66ykZPwKmRL"
   },
   "source": [
    "## **🟢 Part 2: Investment Risk Assessment [4 marks]**  \n",
    "\n",
    "📌 **Requirement:**  \n",
    "SecureBank offers **investment analysis services**. The system should evaluate a **portfolio of stocks** and classify the risk level based on stock returns:  \n",
    "✔ If **any stock has a negative return**, the portfolio is **High Risk**.  \n",
    "✔ If **all stocks have positive returns**, but at least one return is below 5%, classify as **Medium Risk**.  \n",
    "✔ If **all stock returns are 5% or above**, classify as **Low Risk**.  \n",
    "\n",
    "### **Implementation Steps:**  \n",
    "🔹 **Step 1:** Use loops to iterate through the list of stock returns.  \n",
    "🔹 **Step 2:** Implement `if-elif` conditions to classify the risk.  \n",
    "🔹 **Step 3:** Write a Python program using **ipywidgets** to allow users to **input stock returns interactively** and receive a risk assessment.\n",
    "\n",
    "---"
   ]
  },
  {
   "cell_type": "code",
   "execution_count": 37,
   "metadata": {
    "colab": {
     "base_uri": "https://localhost:8080/",
     "height": 99,
     "referenced_widgets": [
      "ec6e78dc9125448597266c7d23580e40",
      "7493b105288440bfb01085f8925842c3",
      "b30e2ca3cf1946f3a9c0f3a74e3806bb",
      "67c26e84718145b3823528ecf4fcb774",
      "9794fab679824246b3013ce5437b74fa",
      "1ea6e09d33764d7688580e8d76da3bbc",
      "29ebe6b4579e408e85229d3938d67977",
      "a8985bdd7b2d423f9bdbb27f60dfbd51"
     ]
    },
    "id": "I6Mi2LbOKtym",
    "outputId": "acab64fa-e7a8-40e4-ac2d-0171b9b5d177"
   },
   "outputs": [
    {
     "data": {
      "application/vnd.jupyter.widget-view+json": {
       "model_id": "ec6e78dc9125448597266c7d23580e40",
       "version_major": 2,
       "version_minor": 0
      },
      "text/plain": [
       "Text(value='Enter value', description='Stock Returns:')"
      ]
     },
     "metadata": {},
     "output_type": "display_data"
    },
    {
     "data": {
      "application/vnd.jupyter.widget-view+json": {
       "model_id": "67c26e84718145b3823528ecf4fcb774",
       "version_major": 2,
       "version_minor": 0
      },
      "text/plain": [
       "Button(description='Assess Investment Risk', style=ButtonStyle())"
      ]
     },
     "metadata": {},
     "output_type": "display_data"
    },
    {
     "data": {
      "application/vnd.jupyter.widget-view+json": {
       "model_id": "29ebe6b4579e408e85229d3938d67977",
       "version_major": 2,
       "version_minor": 0
      },
      "text/plain": [
       "Output()"
      ]
     },
     "metadata": {},
     "output_type": "display_data"
    }
   ],
   "source": [
    "import ipywidgets as widgets\n",
    "from IPython.display import display\n",
    "\n",
    "\n",
    "def assess_investment_risk(returns):\n",
    "\n",
    "    if any(return_val < 0 for return_val in returns):\n",
    "        return \"Risk Level: High Risk (Negative Return Detected)\"\n",
    "\n",
    "\n",
    "    if any(return_val < 5 for return_val in returns):\n",
    "        return \"Risk Level: Medium Risk (Some Returns Below 5%)\"\n",
    "\n",
    "    return \"Risk Level: Low Risk (All Returns 5% or Above)\"\n",
    "\n",
    "\n",
    "stock_returns_input = widgets.Text(value=\"Enter value\", description=\"Stock Returns:\")\n",
    "\n",
    "\n",
    "submit_button_risk = widgets.Button(description=\"Assess Investment Risk\")\n",
    "output_risk = widgets.Output()\n",
    "\n",
    "\n",
    "def on_button_click_risk(b):\n",
    "    with output_risk:\n",
    "        try:\n",
    "\n",
    "            returns = [float(return_val) for return_val in stock_returns_input.value.split(',')]\n",
    "\n",
    "            result = assess_investment_risk(returns)\n",
    "            print(result)\n",
    "        except ValueError:\n",
    "            print(\"Please enter valid stock returns separated by commas \")\n",
    "\n",
    "submit_button_risk.on_click(on_button_click_risk)\n",
    "\n",
    "display(stock_returns_input, submit_button_risk, output_risk)\n",
    "\n"
   ]
  },
  {
   "cell_type": "markdown",
   "metadata": {
    "id": "xTrlsvaZKhaQ"
   },
   "source": [
    "## **🟢 Part 3: Loan Repayment Tracker [4 marks]**  \n",
    "\n",
    "📌 **Requirement:**  \n",
    "Customers who receive a loan should be able to track their **loan balance** as they make monthly payments. The system should:  \n",
    "✔ Start with an **initial loan balance** (e.g., PKR 500,000).  \n",
    "✔ Deduct a **fixed monthly payment** (e.g., PKR 25,000).  \n",
    "✔ Continue tracking until **loan balance reaches zero**.  \n",
    "✔ Display the remaining balance **after each payment**.  \n",
    "\n",
    "### **Implementation Steps:**  \n",
    "🔹 **Step 1:** Choose an appropriate loop (`for` or `while`).  \n",
    "🔹 **Step 2:** Ensure the loop **stops once the loan is fully paid**.  \n",
    "🔹 **Step 3:** Implement a Python program using **ipywidgets** to **simulate loan repayment interactively**.\n",
    "\n",
    "---"
   ]
  },
  {
   "cell_type": "code",
   "execution_count": 38,
   "metadata": {
    "colab": {
     "base_uri": "https://localhost:8080/",
     "height": 470,
     "referenced_widgets": [
      "6cfb9be5ef964edc918c3634555e968a",
      "1b3f6adf114947b981d00b67edc2b7eb",
      "99e81a4c66804aca804d144a5356f641",
      "931772e708dc4ebaab00cafb04dd62f8",
      "7595d375383d413b80793a319def8525",
      "00e05dc026044a4189f1310056081820",
      "2dc9fd126b6b4b9d812136b8eb523054",
      "7afe85aac9a8464488508f368ad16707",
      "030977da22d94d47b83dd7d6e1a3d68d",
      "b0a424d6a3cc47019a6f7be6619966df",
      "7fa03ade84554f0a8d5d69f4257d9813"
     ]
    },
    "id": "h3V9vFDjKvGH",
    "outputId": "9db9541b-f88f-4b7c-e350-467cf2d4c288"
   },
   "outputs": [
    {
     "data": {
      "application/vnd.jupyter.widget-view+json": {
       "model_id": "6cfb9be5ef964edc918c3634555e968a",
       "version_major": 2,
       "version_minor": 0
      },
      "text/plain": [
       "IntText(value=500000, description='Loan Balance (PKR):')"
      ]
     },
     "metadata": {},
     "output_type": "display_data"
    },
    {
     "data": {
      "application/vnd.jupyter.widget-view+json": {
       "model_id": "931772e708dc4ebaab00cafb04dd62f8",
       "version_major": 2,
       "version_minor": 0
      },
      "text/plain": [
       "IntText(value=25000, description='Monthly Payment (PKR):')"
      ]
     },
     "metadata": {},
     "output_type": "display_data"
    },
    {
     "data": {
      "application/vnd.jupyter.widget-view+json": {
       "model_id": "2dc9fd126b6b4b9d812136b8eb523054",
       "version_major": 2,
       "version_minor": 0
      },
      "text/plain": [
       "Button(description='Start Repayment Tracker', style=ButtonStyle())"
      ]
     },
     "metadata": {},
     "output_type": "display_data"
    },
    {
     "data": {
      "application/vnd.jupyter.widget-view+json": {
       "model_id": "b0a424d6a3cc47019a6f7be6619966df",
       "version_major": 2,
       "version_minor": 0
      },
      "text/plain": [
       "Output()"
      ]
     },
     "metadata": {},
     "output_type": "display_data"
    }
   ],
   "source": [
    "import ipywidgets as widgets\n",
    "from IPython.display import display\n",
    "\n",
    "def loan_repayment_tracker(loan_balance, monthly_payment):\n",
    "    months = 0\n",
    "    while loan_balance > 0:\n",
    "        loan_balance -= monthly_payment\n",
    "        months += 1\n",
    "        if loan_balance < 0:\n",
    "            loan_balance = 0\n",
    "        print(\"Month {months}: Remaining Balance = {loan_balance} PKR\")\n",
    "\n",
    "    return \"Loan Fully Paid in {months} months.\"\n",
    "\n",
    "\n",
    "loan_balance_input = widgets.IntText(value=500000, description='Loan Balance (PKR):')\n",
    "payment_input = widgets.IntText(value=25000, description='Monthly Payment (PKR):')\n",
    "\n",
    "\n",
    "submit_button_repayment = widgets.Button(description=\"Start Repayment Tracker\")\n",
    "output_repayment = widgets.Output()\n",
    "\n",
    "\n",
    "def on_button_click_repayment(b):\n",
    "    with output_repayment:\n",
    "\n",
    "        result = loan_repayment_tracker(loan_balance_input.value, payment_input.value)\n",
    "        print(result)\n",
    "\n",
    "submit_button_repayment.on_click(on_button_click_repayment)\n",
    "\n",
    "display(loan_balance_input, payment_input, submit_button_repayment, output_repayment)\n"
   ]
  },
  {
   "cell_type": "markdown",
   "metadata": {
    "id": "3V72WRTcKc17"
   },
   "source": [
    "\n",
    "## **🟢 Part 4: Stock Price Monitoring and Trading Strategy [4 marks]**  \n",
    "\n",
    "📌 **Requirement:**  \n",
    "A stock trader wants to **track stock prices daily** and **sell when the price reaches PKR 200**. The system should:  \n",
    "✔ Iterate through a **list of stock prices**.  \n",
    "✔ **Skip missing stock data** (`None` values).  \n",
    "✔ Stop tracking **once the price reaches PKR 200**.  \n",
    "\n",
    "### **Implementation Steps:**  \n",
    "🔹 **Step 1:** Handle missing stock data using `continue`.  \n",
    "🔹 **Step 2:** Stop tracking once the stock hits the target price (`break`).  \n",
    "🔹 **Step 3:** Write a Python program using **ipywidgets** to **process stock prices interactively** and trigger alerts when conditions are met.\n",
    "\n",
    "---"
   ]
  },
  {
   "cell_type": "code",
   "execution_count": 39,
   "metadata": {
    "colab": {
     "base_uri": "https://localhost:8080/",
     "height": 167,
     "referenced_widgets": [
      "96e7801d6fac4fdf80419b8d3d450f3c",
      "f50040995134446b9d834da031974aa4",
      "a18aff98bb5e4215af9e586297e08a62",
      "324646320ed246949b9d97b10df58a28",
      "e27b3ca3e11c4993abccdd721304afa1",
      "7a22fb86a9fb47748442711c7aa520d3",
      "92cd5b1638a0487c9ad23667e9df8264",
      "c7ee2f60194040399438819078edf614"
     ]
    },
    "id": "G4v6qt6GKwFN",
    "outputId": "40246f31-0765-4e8a-e5d2-51f728cdd650"
   },
   "outputs": [
    {
     "data": {
      "application/vnd.jupyter.widget-view+json": {
       "model_id": "96e7801d6fac4fdf80419b8d3d450f3c",
       "version_major": 2,
       "version_minor": 0
      },
      "text/plain": [
       "Text(value='Enter value', description='Stock Prices:')"
      ]
     },
     "metadata": {},
     "output_type": "display_data"
    },
    {
     "data": {
      "application/vnd.jupyter.widget-view+json": {
       "model_id": "324646320ed246949b9d97b10df58a28",
       "version_major": 2,
       "version_minor": 0
      },
      "text/plain": [
       "Button(description='Start Monitoring', style=ButtonStyle())"
      ]
     },
     "metadata": {},
     "output_type": "display_data"
    },
    {
     "data": {
      "application/vnd.jupyter.widget-view+json": {
       "model_id": "92cd5b1638a0487c9ad23667e9df8264",
       "version_major": 2,
       "version_minor": 0
      },
      "text/plain": [
       "Output()"
      ]
     },
     "metadata": {},
     "output_type": "display_data"
    }
   ],
   "source": [
    "import ipywidgets as widgets\n",
    "from IPython.display import display\n",
    "\n",
    "\n",
    "def stock_price_monitor(prices, target_price=200):\n",
    "    for price in prices:\n",
    "        if price is None:\n",
    "            continue\n",
    "        if price >= target_price:\n",
    "            print(f\"Stock price hit {price} PKR. Selling the stock!\")\n",
    "            break\n",
    "        print(f\"Current Stock Price: {price} PKR\")\n",
    "\n",
    "    return \"Monitoring completed.\"\n",
    "\n",
    "\n",
    "stock_prices_input = widgets.Text(value=\"Enter value\", description=\"Stock Prices:\")\n",
    "\n",
    "\n",
    "submit_button_stock = widgets.Button(description=\"Start Monitoring\")\n",
    "output_stock = widgets.Output()\n",
    "\n",
    "\n",
    "def on_button_click_stock(b):\n",
    "    with output_stock:\n",
    "\n",
    "        try:\n",
    "            prices = [None if p == 'None' else float(p) for p in stock_prices_input.value.split(',')]\n",
    "\n",
    "            result = stock_price_monitor(prices)\n",
    "            print(result)\n",
    "        except ValueError:\n",
    "            print(\"Please enter valid stock prices separated by commas\")\n",
    "\n",
    "submit_button_stock.on_click(on_button_click_stock)\n",
    "display(stock_prices_input, submit_button_stock, output_stock)\n"
   ]
  },
  {
   "cell_type": "markdown",
   "metadata": {
    "id": "lD82JT7-KXqK"
   },
   "source": [
    "\n",
    "## **🟢 Part 5: Currency Exchange Rate Tracker [4 marks]**  \n",
    "\n",
    "📌 **Requirement:**  \n",
    "SecureBank provides **real-time currency exchange tracking**. The system should:  \n",
    "✔ Start at **PKR 290/USD**.  \n",
    "✔ Increase by **1 PKR per day** until it reaches **PKR 300/USD**.  \n",
    "✔ Print exchange rates daily and stop when the **target rate is reached**.  \n",
    "\n",
    "### **Implementation Steps:**  \n",
    "🔹 **Step 1:** Choose a suitable loop (`for` or `while`).  \n",
    "🔹 **Step 2:** Stop the loop when the exchange rate reaches the target.  \n",
    "🔹 **Step 3:** Implement a Python program using **ipywidgets** to **track the currency exchange rate interactively**.\n",
    "\n",
    "---"
   ]
  },
  {
   "cell_type": "code",
   "execution_count": 35,
   "metadata": {
    "colab": {
     "base_uri": "https://localhost:8080/",
     "height": 348,
     "referenced_widgets": [
      "c16049111e9a4fa9bf9fe4f9fc1cd56d",
      "a002a568c65646799bbf9f1664a6106f",
      "a3006c90ed2d40f0aa8a9a0846175c89",
      "787644406f614422a73206d465cb6c9b",
      "3520f7a7ef63493f808a7735cbbc287b",
      "44c006762f374a21a0c2d3e88f9f6cd9",
      "c87cc686ecd74619a203cf4dd37d5d32",
      "fea8e61570bd4c5ab03649573447e610",
      "8c11969ed17145dca9083068c84f6435",
      "17a7bc89578c48f8a7cbd944df433d0b",
      "3547e271b7404b95b9f7ad529758fe41",
      "68452784a8724216aa94cbe51fc0dd22",
      "36c255a356514e999fe598a5270d56ed",
      "1dd1d4b729c741a6878b212d4df774fe"
     ]
    },
    "id": "3xiDWiabKwfr",
    "outputId": "51827a54-6f11-43b3-d70f-eb826b3c0846"
   },
   "outputs": [
    {
     "data": {
      "application/vnd.jupyter.widget-view+json": {
       "model_id": "c16049111e9a4fa9bf9fe4f9fc1cd56d",
       "version_major": 2,
       "version_minor": 0
      },
      "text/plain": [
       "IntText(value=290, description='Start Rate (PKR/USD):')"
      ]
     },
     "metadata": {},
     "output_type": "display_data"
    },
    {
     "data": {
      "application/vnd.jupyter.widget-view+json": {
       "model_id": "787644406f614422a73206d465cb6c9b",
       "version_major": 2,
       "version_minor": 0
      },
      "text/plain": [
       "IntText(value=300, description='Target Rate (PKR/USD):')"
      ]
     },
     "metadata": {},
     "output_type": "display_data"
    },
    {
     "data": {
      "application/vnd.jupyter.widget-view+json": {
       "model_id": "c87cc686ecd74619a203cf4dd37d5d32",
       "version_major": 2,
       "version_minor": 0
      },
      "text/plain": [
       "IntText(value=1, description='Increment (PKR):')"
      ]
     },
     "metadata": {},
     "output_type": "display_data"
    },
    {
     "data": {
      "application/vnd.jupyter.widget-view+json": {
       "model_id": "17a7bc89578c48f8a7cbd944df433d0b",
       "version_major": 2,
       "version_minor": 0
      },
      "text/plain": [
       "Button(description='Start Exchange Tracker', style=ButtonStyle())"
      ]
     },
     "metadata": {},
     "output_type": "display_data"
    },
    {
     "data": {
      "application/vnd.jupyter.widget-view+json": {
       "model_id": "36c255a356514e999fe598a5270d56ed",
       "version_major": 2,
       "version_minor": 0
      },
      "text/plain": [
       "Output()"
      ]
     },
     "metadata": {},
     "output_type": "display_data"
    },
    {
     "name": "stdout",
     "output_type": "stream",
     "text": [
      "Day 1: Exchange Rate = 290 PKR/USD\n",
      "Day 2: Exchange Rate = 291 PKR/USD\n",
      "Day 3: Exchange Rate = 292 PKR/USD\n",
      "Day 4: Exchange Rate = 293 PKR/USD\n",
      "Day 5: Exchange Rate = 294 PKR/USD\n",
      "Day 6: Exchange Rate = 295 PKR/USD\n",
      "Day 7: Exchange Rate = 296 PKR/USD\n",
      "Day 8: Exchange Rate = 297 PKR/USD\n",
      "Day 9: Exchange Rate = 298 PKR/USD\n",
      "Day 10: Exchange Rate = 299 PKR/USD\n",
      "Day 11: Exchange Rate = 300 PKR/USD\n",
      "Target exchange rate of 300 PKR/USD reached.\n"
     ]
    }
   ],
   "source": [
    "\n",
    "from IPython.display import display\n",
    "def currency_exchange_tracker(start_rate, target_rate, increment):\n",
    "    current_rate = start_rate\n",
    "    day = 1\n",
    "\n",
    "\n",
    "    while current_rate <= target_rate:\n",
    "        print(f\"Day {day}: Exchange Rate = {current_rate} PKR/USD\")\n",
    "        current_rate += increment\n",
    "        day += 1\n",
    "        if current_rate > target_rate:\n",
    "            break\n",
    "\n",
    "    return f\"Target exchange rate of {target_rate} PKR/USD reached.\"\n",
    "\n",
    "start_rate_input = widgets.IntText(value=290, description='Start Rate (PKR/USD):')\n",
    "target_rate_input = widgets.IntText(value=300, description='Target Rate (PKR/USD):')\n",
    "increment_input = widgets.IntText(value=1, description='Increment (PKR):')\n",
    "\n",
    "submit_button_exchange = widgets.Button(description=\"Start Exchange Tracker\")\n",
    "output_exchange = widgets.Output()\n",
    "\n",
    "def on_button_click_exchange(b):\n",
    "    with output_exchange:\n",
    "\n",
    "        result = currency_exchange_tracker(\n",
    "            start_rate_input.value,\n",
    "            target_rate_input.value,\n",
    "            increment_input.value\n",
    "        )\n",
    "        print(result)\n",
    "\n",
    "submit_button_exchange.on_click(on_button_click_exchange)\n",
    "\n",
    "display(start_rate_input, target_rate_input, increment_input, submit_button_exchange, output_exchange)\n"
   ]
  },
  {
   "cell_type": "markdown",
   "metadata": {
    "id": "-gpSKR0APnLP"
   },
   "source": [
    "*   \n",
    "*\n",
    "*   \n",
    "*   \n",
    "*   \n",
    "*\n",
    "*   \n",
    "*"
   ]
  },
  {
   "cell_type": "markdown",
   "metadata": {
    "id": "hUFnFKjmKxeH"
   },
   "source": [
    "\n",
    "\n",
    "---\n",
    "\n",
    "\n",
    "======================================== *to err is human* ========================================\n",
    "\n",
    "\n",
    "---\n",
    "\n"
   ]
  },
  {
   "cell_type": "markdown",
   "metadata": {
    "id": "E2rlRDSuPPRt"
   },
   "source": [
    "*   \n",
    "*\n",
    "*   \n",
    "*   \n",
    "*   \n",
    "*\n",
    "*   \n",
    "*\n",
    "\n",
    "---\n",
    "\n",
    "## **🎯 Grading Rubric (20 Marks)**  \n",
    "\n",
    "| **Criteria**           | **🌟 Excellent (4 Marks)** | **✅ Good (3 Marks)** | **⚠️ Satisfactory (2 Marks)** | **❌ Needs Improvement (1 Mark)** | **🚫 No Attempt (0 Marks)** |\n",
    "|------------------------|-----------------------|------------------|----------------------|----------------------|----------------------|\n",
    "| **📝 Loan Eligibility System**  | ✅ Correct logic with `ipywidgets`, handles user input well. | ⚠️ Mostly correct logic, minor issues. | ❌ Basic logic but missing conditions. | 🚫 Major errors in implementation. | ❌ No implementation. |\n",
    "| **📊 Investment Risk Assessment**  | ✅ Efficient looping with correct risk classification and `ipywidgets`. | ⚠️ Minor issues in logic or implementation. | ❌ Some conditions missing, basic implementation. | 🚫 Incorrect or incomplete logic. | ❌ No implementation. |\n",
    "| **💰 Loan Repayment Tracker**  | ✅ Tracks repayment correctly, interactive using `ipywidgets`. | ⚠️ Correct logic but missing interactivity. | ❌ Loop present but some logic missing. | 🚫 Incorrect approach. | ❌ No implementation. |\n",
    "| **📈 Stock Price Monitoring**  | ✅ Proper use of `continue` and `break`, handles missing values. | ⚠️ Minor logic issues, mostly correct. | ❌ Some conditions missing, partially correct. | 🚫 Incorrect logic, missing key elements. | ❌ No implementation. |\n",
    "| **💹 Currency Exchange Tracker**  | ✅ Correct loop, stops at target rate, structured well with `ipywidgets`. | ⚠️ Mostly correct, minor inefficiencies. | ❌ Incorrect stopping condition, basic implementation. | 🚫 Incorrect approach. | ❌ No implementation. |\n",
    "| **📜 Code Quality & Structure**  | ✅ Well-commented, clean code, follows best practices. | ⚠️ Mostly structured but needs better readability. | ❌ Works but lacks clarity. | 🚫 Unstructured, lacks comments. | ❌ No code present. |\n",
    "| **🎛️ Use of `ipywidgets`** | ✅ Used effectively in all parts, enhances interactivity. | ⚠️ Used in most parts but minor inefficiencies. | ❌ Implemented but not fully functional. | 🚫 Attempted but not used correctly. | ❌ No implementation. |\n",
    "| **📂 GitHub Submission & Documentation** | ✅ Well-structured repo, proper `README.md`. | ⚠️ Repo exists but lacks structured documentation. | ❌ Basic submission, missing details. | 🚫 Attempted but incomplete. | ❌ No submission. |\n",
    "| **📤 Google Classroom Submission** | ✅ Submitted correctly with all required elements. | ⚠️ Submitted but missing minor details. | ❌ Late submission or incomplete. | 🚫 Attempted but missing key parts. | ❌ No submission. |\n",
    "| **🔎 Overall Implementation & Accuracy** | ✅ All features implemented correctly, runs smoothly. | ⚠️ Most features implemented, minor issues. | ❌ Some features missing but basic functionality works. | 🚫 Major features missing. | ❌ No implementation. |\n",
    "\n",
    "---\n",
    "\n"
   ]
  },
  {
   "cell_type": "markdown",
   "metadata": {
    "id": "-_kwwSB6PiZp"
   },
   "source": [
    "*Follow the deadline. This is an individual assignment. Do not copy/paste from LLMs or from other students.*"
   ]
  }
 ],
 "metadata": {
  "colab": {
   "provenance": []
  },
  "kernelspec": {
   "display_name": "Python 3",
   "name": "python3"
  },
  "language_info": {
   "name": "python"
  },
  "widgets": {
   "application/vnd.jupyter.widget-state+json": {
    "00e05dc026044a4189f1310056081820": {
     "model_module": "@jupyter-widgets/controls",
     "model_module_version": "1.5.0",
     "model_name": "DescriptionStyleModel",
     "state": {
      "_model_module": "@jupyter-widgets/controls",
      "_model_module_version": "1.5.0",
      "_model_name": "DescriptionStyleModel",
      "_view_count": null,
      "_view_module": "@jupyter-widgets/base",
      "_view_module_version": "1.2.0",
      "_view_name": "StyleView",
      "description_width": ""
     }
    },
    "030977da22d94d47b83dd7d6e1a3d68d": {
     "model_module": "@jupyter-widgets/controls",
     "model_module_version": "1.5.0",
     "model_name": "ButtonStyleModel",
     "state": {
      "_model_module": "@jupyter-widgets/controls",
      "_model_module_version": "1.5.0",
      "_model_name": "ButtonStyleModel",
      "_view_count": null,
      "_view_module": "@jupyter-widgets/base",
      "_view_module_version": "1.2.0",
      "_view_name": "StyleView",
      "button_color": null,
      "font_weight": ""
     }
    },
    "17a7bc89578c48f8a7cbd944df433d0b": {
     "model_module": "@jupyter-widgets/controls",
     "model_module_version": "1.5.0",
     "model_name": "ButtonModel",
     "state": {
      "_dom_classes": [],
      "_model_module": "@jupyter-widgets/controls",
      "_model_module_version": "1.5.0",
      "_model_name": "ButtonModel",
      "_view_count": null,
      "_view_module": "@jupyter-widgets/controls",
      "_view_module_version": "1.5.0",
      "_view_name": "ButtonView",
      "button_style": "",
      "description": "Start Exchange Tracker",
      "disabled": false,
      "icon": "",
      "layout": "IPY_MODEL_3547e271b7404b95b9f7ad529758fe41",
      "style": "IPY_MODEL_68452784a8724216aa94cbe51fc0dd22",
      "tooltip": ""
     }
    },
    "1b3f6adf114947b981d00b67edc2b7eb": {
     "model_module": "@jupyter-widgets/base",
     "model_module_version": "1.2.0",
     "model_name": "LayoutModel",
     "state": {
      "_model_module": "@jupyter-widgets/base",
      "_model_module_version": "1.2.0",
      "_model_name": "LayoutModel",
      "_view_count": null,
      "_view_module": "@jupyter-widgets/base",
      "_view_module_version": "1.2.0",
      "_view_name": "LayoutView",
      "align_content": null,
      "align_items": null,
      "align_self": null,
      "border": null,
      "bottom": null,
      "display": null,
      "flex": null,
      "flex_flow": null,
      "grid_area": null,
      "grid_auto_columns": null,
      "grid_auto_flow": null,
      "grid_auto_rows": null,
      "grid_column": null,
      "grid_gap": null,
      "grid_row": null,
      "grid_template_areas": null,
      "grid_template_columns": null,
      "grid_template_rows": null,
      "height": null,
      "justify_content": null,
      "justify_items": null,
      "left": null,
      "margin": null,
      "max_height": null,
      "max_width": null,
      "min_height": null,
      "min_width": null,
      "object_fit": null,
      "object_position": null,
      "order": null,
      "overflow": null,
      "overflow_x": null,
      "overflow_y": null,
      "padding": null,
      "right": null,
      "top": null,
      "visibility": null,
      "width": null
     }
    },
    "1dd1d4b729c741a6878b212d4df774fe": {
     "model_module": "@jupyter-widgets/base",
     "model_module_version": "1.2.0",
     "model_name": "LayoutModel",
     "state": {
      "_model_module": "@jupyter-widgets/base",
      "_model_module_version": "1.2.0",
      "_model_name": "LayoutModel",
      "_view_count": null,
      "_view_module": "@jupyter-widgets/base",
      "_view_module_version": "1.2.0",
      "_view_name": "LayoutView",
      "align_content": null,
      "align_items": null,
      "align_self": null,
      "border": null,
      "bottom": null,
      "display": null,
      "flex": null,
      "flex_flow": null,
      "grid_area": null,
      "grid_auto_columns": null,
      "grid_auto_flow": null,
      "grid_auto_rows": null,
      "grid_column": null,
      "grid_gap": null,
      "grid_row": null,
      "grid_template_areas": null,
      "grid_template_columns": null,
      "grid_template_rows": null,
      "height": null,
      "justify_content": null,
      "justify_items": null,
      "left": null,
      "margin": null,
      "max_height": null,
      "max_width": null,
      "min_height": null,
      "min_width": null,
      "object_fit": null,
      "object_position": null,
      "order": null,
      "overflow": null,
      "overflow_x": null,
      "overflow_y": null,
      "padding": null,
      "right": null,
      "top": null,
      "visibility": null,
      "width": null
     }
    },
    "1ea6e09d33764d7688580e8d76da3bbc": {
     "model_module": "@jupyter-widgets/controls",
     "model_module_version": "1.5.0",
     "model_name": "ButtonStyleModel",
     "state": {
      "_model_module": "@jupyter-widgets/controls",
      "_model_module_version": "1.5.0",
      "_model_name": "ButtonStyleModel",
      "_view_count": null,
      "_view_module": "@jupyter-widgets/base",
      "_view_module_version": "1.2.0",
      "_view_name": "StyleView",
      "button_color": null,
      "font_weight": ""
     }
    },
    "27988a9cf0724ab28940f07f010b4dfa": {
     "model_module": "@jupyter-widgets/controls",
     "model_module_version": "1.5.0",
     "model_name": "IntTextModel",
     "state": {
      "_dom_classes": [],
      "_model_module": "@jupyter-widgets/controls",
      "_model_module_version": "1.5.0",
      "_model_name": "IntTextModel",
      "_view_count": null,
      "_view_module": "@jupyter-widgets/controls",
      "_view_module_version": "1.5.0",
      "_view_name": "IntTextView",
      "continuous_update": false,
      "description": "Income (PKR):",
      "description_tooltip": null,
      "disabled": false,
      "layout": "IPY_MODEL_eddf5b2970334dfbb29fab751c3aaafb",
      "step": 1,
      "style": "IPY_MODEL_445a780bd88d4ef1a37287adb13ebe25",
      "value": 100000
     }
    },
    "29ebe6b4579e408e85229d3938d67977": {
     "model_module": "@jupyter-widgets/output",
     "model_module_version": "1.0.0",
     "model_name": "OutputModel",
     "state": {
      "_dom_classes": [],
      "_model_module": "@jupyter-widgets/output",
      "_model_module_version": "1.0.0",
      "_model_name": "OutputModel",
      "_view_count": null,
      "_view_module": "@jupyter-widgets/output",
      "_view_module_version": "1.0.0",
      "_view_name": "OutputView",
      "layout": "IPY_MODEL_a8985bdd7b2d423f9bdbb27f60dfbd51",
      "msg_id": "",
      "outputs": [
       {
        "name": "stdout",
        "output_type": "stream",
        "text": [
         "Risk Level: Low Risk (All Returns 5% or Above)\n"
        ]
       }
      ]
     }
    },
    "2dc9fd126b6b4b9d812136b8eb523054": {
     "model_module": "@jupyter-widgets/controls",
     "model_module_version": "1.5.0",
     "model_name": "ButtonModel",
     "state": {
      "_dom_classes": [],
      "_model_module": "@jupyter-widgets/controls",
      "_model_module_version": "1.5.0",
      "_model_name": "ButtonModel",
      "_view_count": null,
      "_view_module": "@jupyter-widgets/controls",
      "_view_module_version": "1.5.0",
      "_view_name": "ButtonView",
      "button_style": "",
      "description": "Start Repayment Tracker",
      "disabled": false,
      "icon": "",
      "layout": "IPY_MODEL_7afe85aac9a8464488508f368ad16707",
      "style": "IPY_MODEL_030977da22d94d47b83dd7d6e1a3d68d",
      "tooltip": ""
     }
    },
    "324646320ed246949b9d97b10df58a28": {
     "model_module": "@jupyter-widgets/controls",
     "model_module_version": "1.5.0",
     "model_name": "ButtonModel",
     "state": {
      "_dom_classes": [],
      "_model_module": "@jupyter-widgets/controls",
      "_model_module_version": "1.5.0",
      "_model_name": "ButtonModel",
      "_view_count": null,
      "_view_module": "@jupyter-widgets/controls",
      "_view_module_version": "1.5.0",
      "_view_name": "ButtonView",
      "button_style": "",
      "description": "Start Monitoring",
      "disabled": false,
      "icon": "",
      "layout": "IPY_MODEL_e27b3ca3e11c4993abccdd721304afa1",
      "style": "IPY_MODEL_7a22fb86a9fb47748442711c7aa520d3",
      "tooltip": ""
     }
    },
    "3520f7a7ef63493f808a7735cbbc287b": {
     "model_module": "@jupyter-widgets/base",
     "model_module_version": "1.2.0",
     "model_name": "LayoutModel",
     "state": {
      "_model_module": "@jupyter-widgets/base",
      "_model_module_version": "1.2.0",
      "_model_name": "LayoutModel",
      "_view_count": null,
      "_view_module": "@jupyter-widgets/base",
      "_view_module_version": "1.2.0",
      "_view_name": "LayoutView",
      "align_content": null,
      "align_items": null,
      "align_self": null,
      "border": null,
      "bottom": null,
      "display": null,
      "flex": null,
      "flex_flow": null,
      "grid_area": null,
      "grid_auto_columns": null,
      "grid_auto_flow": null,
      "grid_auto_rows": null,
      "grid_column": null,
      "grid_gap": null,
      "grid_row": null,
      "grid_template_areas": null,
      "grid_template_columns": null,
      "grid_template_rows": null,
      "height": null,
      "justify_content": null,
      "justify_items": null,
      "left": null,
      "margin": null,
      "max_height": null,
      "max_width": null,
      "min_height": null,
      "min_width": null,
      "object_fit": null,
      "object_position": null,
      "order": null,
      "overflow": null,
      "overflow_x": null,
      "overflow_y": null,
      "padding": null,
      "right": null,
      "top": null,
      "visibility": null,
      "width": null
     }
    },
    "3547e271b7404b95b9f7ad529758fe41": {
     "model_module": "@jupyter-widgets/base",
     "model_module_version": "1.2.0",
     "model_name": "LayoutModel",
     "state": {
      "_model_module": "@jupyter-widgets/base",
      "_model_module_version": "1.2.0",
      "_model_name": "LayoutModel",
      "_view_count": null,
      "_view_module": "@jupyter-widgets/base",
      "_view_module_version": "1.2.0",
      "_view_name": "LayoutView",
      "align_content": null,
      "align_items": null,
      "align_self": null,
      "border": null,
      "bottom": null,
      "display": null,
      "flex": null,
      "flex_flow": null,
      "grid_area": null,
      "grid_auto_columns": null,
      "grid_auto_flow": null,
      "grid_auto_rows": null,
      "grid_column": null,
      "grid_gap": null,
      "grid_row": null,
      "grid_template_areas": null,
      "grid_template_columns": null,
      "grid_template_rows": null,
      "height": null,
      "justify_content": null,
      "justify_items": null,
      "left": null,
      "margin": null,
      "max_height": null,
      "max_width": null,
      "min_height": null,
      "min_width": null,
      "object_fit": null,
      "object_position": null,
      "order": null,
      "overflow": null,
      "overflow_x": null,
      "overflow_y": null,
      "padding": null,
      "right": null,
      "top": null,
      "visibility": null,
      "width": null
     }
    },
    "36147a689fbf4abc8ee58a57fc257f36": {
     "model_module": "@jupyter-widgets/controls",
     "model_module_version": "1.5.0",
     "model_name": "IntTextModel",
     "state": {
      "_dom_classes": [],
      "_model_module": "@jupyter-widgets/controls",
      "_model_module_version": "1.5.0",
      "_model_name": "IntTextModel",
      "_view_count": null,
      "_view_module": "@jupyter-widgets/controls",
      "_view_module_version": "1.5.0",
      "_view_name": "IntTextView",
      "continuous_update": false,
      "description": "Credit Score:",
      "description_tooltip": null,
      "disabled": false,
      "layout": "IPY_MODEL_ea644f594ae64ec48ba5991f8e32bb18",
      "step": 1,
      "style": "IPY_MODEL_3fea6ff8c7624bb6addab9ce55deaba9",
      "value": 750
     }
    },
    "36c255a356514e999fe598a5270d56ed": {
     "model_module": "@jupyter-widgets/output",
     "model_module_version": "1.0.0",
     "model_name": "OutputModel",
     "state": {
      "_dom_classes": [],
      "_model_module": "@jupyter-widgets/output",
      "_model_module_version": "1.0.0",
      "_model_name": "OutputModel",
      "_view_count": null,
      "_view_module": "@jupyter-widgets/output",
      "_view_module_version": "1.0.0",
      "_view_name": "OutputView",
      "layout": "IPY_MODEL_1dd1d4b729c741a6878b212d4df774fe",
      "msg_id": "",
      "outputs": []
     }
    },
    "3fea6ff8c7624bb6addab9ce55deaba9": {
     "model_module": "@jupyter-widgets/controls",
     "model_module_version": "1.5.0",
     "model_name": "DescriptionStyleModel",
     "state": {
      "_model_module": "@jupyter-widgets/controls",
      "_model_module_version": "1.5.0",
      "_model_name": "DescriptionStyleModel",
      "_view_count": null,
      "_view_module": "@jupyter-widgets/base",
      "_view_module_version": "1.2.0",
      "_view_name": "StyleView",
      "description_width": ""
     }
    },
    "445a780bd88d4ef1a37287adb13ebe25": {
     "model_module": "@jupyter-widgets/controls",
     "model_module_version": "1.5.0",
     "model_name": "DescriptionStyleModel",
     "state": {
      "_model_module": "@jupyter-widgets/controls",
      "_model_module_version": "1.5.0",
      "_model_name": "DescriptionStyleModel",
      "_view_count": null,
      "_view_module": "@jupyter-widgets/base",
      "_view_module_version": "1.2.0",
      "_view_name": "StyleView",
      "description_width": ""
     }
    },
    "44c006762f374a21a0c2d3e88f9f6cd9": {
     "model_module": "@jupyter-widgets/controls",
     "model_module_version": "1.5.0",
     "model_name": "DescriptionStyleModel",
     "state": {
      "_model_module": "@jupyter-widgets/controls",
      "_model_module_version": "1.5.0",
      "_model_name": "DescriptionStyleModel",
      "_view_count": null,
      "_view_module": "@jupyter-widgets/base",
      "_view_module_version": "1.2.0",
      "_view_name": "StyleView",
      "description_width": ""
     }
    },
    "555f58f65f0443ee8f7f7ab1f40c1885": {
     "model_module": "@jupyter-widgets/controls",
     "model_module_version": "1.5.0",
     "model_name": "ButtonStyleModel",
     "state": {
      "_model_module": "@jupyter-widgets/controls",
      "_model_module_version": "1.5.0",
      "_model_name": "ButtonStyleModel",
      "_view_count": null,
      "_view_module": "@jupyter-widgets/base",
      "_view_module_version": "1.2.0",
      "_view_name": "StyleView",
      "button_color": null,
      "font_weight": ""
     }
    },
    "67c26e84718145b3823528ecf4fcb774": {
     "model_module": "@jupyter-widgets/controls",
     "model_module_version": "1.5.0",
     "model_name": "ButtonModel",
     "state": {
      "_dom_classes": [],
      "_model_module": "@jupyter-widgets/controls",
      "_model_module_version": "1.5.0",
      "_model_name": "ButtonModel",
      "_view_count": null,
      "_view_module": "@jupyter-widgets/controls",
      "_view_module_version": "1.5.0",
      "_view_name": "ButtonView",
      "button_style": "",
      "description": "Assess Investment Risk",
      "disabled": false,
      "icon": "",
      "layout": "IPY_MODEL_9794fab679824246b3013ce5437b74fa",
      "style": "IPY_MODEL_1ea6e09d33764d7688580e8d76da3bbc",
      "tooltip": ""
     }
    },
    "68452784a8724216aa94cbe51fc0dd22": {
     "model_module": "@jupyter-widgets/controls",
     "model_module_version": "1.5.0",
     "model_name": "ButtonStyleModel",
     "state": {
      "_model_module": "@jupyter-widgets/controls",
      "_model_module_version": "1.5.0",
      "_model_name": "ButtonStyleModel",
      "_view_count": null,
      "_view_module": "@jupyter-widgets/base",
      "_view_module_version": "1.2.0",
      "_view_name": "StyleView",
      "button_color": null,
      "font_weight": ""
     }
    },
    "6cfb9be5ef964edc918c3634555e968a": {
     "model_module": "@jupyter-widgets/controls",
     "model_module_version": "1.5.0",
     "model_name": "IntTextModel",
     "state": {
      "_dom_classes": [],
      "_model_module": "@jupyter-widgets/controls",
      "_model_module_version": "1.5.0",
      "_model_name": "IntTextModel",
      "_view_count": null,
      "_view_module": "@jupyter-widgets/controls",
      "_view_module_version": "1.5.0",
      "_view_name": "IntTextView",
      "continuous_update": false,
      "description": "Loan Balance (PKR):",
      "description_tooltip": null,
      "disabled": false,
      "layout": "IPY_MODEL_1b3f6adf114947b981d00b67edc2b7eb",
      "step": 1,
      "style": "IPY_MODEL_99e81a4c66804aca804d144a5356f641",
      "value": 500000
     }
    },
    "7493b105288440bfb01085f8925842c3": {
     "model_module": "@jupyter-widgets/base",
     "model_module_version": "1.2.0",
     "model_name": "LayoutModel",
     "state": {
      "_model_module": "@jupyter-widgets/base",
      "_model_module_version": "1.2.0",
      "_model_name": "LayoutModel",
      "_view_count": null,
      "_view_module": "@jupyter-widgets/base",
      "_view_module_version": "1.2.0",
      "_view_name": "LayoutView",
      "align_content": null,
      "align_items": null,
      "align_self": null,
      "border": null,
      "bottom": null,
      "display": null,
      "flex": null,
      "flex_flow": null,
      "grid_area": null,
      "grid_auto_columns": null,
      "grid_auto_flow": null,
      "grid_auto_rows": null,
      "grid_column": null,
      "grid_gap": null,
      "grid_row": null,
      "grid_template_areas": null,
      "grid_template_columns": null,
      "grid_template_rows": null,
      "height": null,
      "justify_content": null,
      "justify_items": null,
      "left": null,
      "margin": null,
      "max_height": null,
      "max_width": null,
      "min_height": null,
      "min_width": null,
      "object_fit": null,
      "object_position": null,
      "order": null,
      "overflow": null,
      "overflow_x": null,
      "overflow_y": null,
      "padding": null,
      "right": null,
      "top": null,
      "visibility": null,
      "width": null
     }
    },
    "7595d375383d413b80793a319def8525": {
     "model_module": "@jupyter-widgets/base",
     "model_module_version": "1.2.0",
     "model_name": "LayoutModel",
     "state": {
      "_model_module": "@jupyter-widgets/base",
      "_model_module_version": "1.2.0",
      "_model_name": "LayoutModel",
      "_view_count": null,
      "_view_module": "@jupyter-widgets/base",
      "_view_module_version": "1.2.0",
      "_view_name": "LayoutView",
      "align_content": null,
      "align_items": null,
      "align_self": null,
      "border": null,
      "bottom": null,
      "display": null,
      "flex": null,
      "flex_flow": null,
      "grid_area": null,
      "grid_auto_columns": null,
      "grid_auto_flow": null,
      "grid_auto_rows": null,
      "grid_column": null,
      "grid_gap": null,
      "grid_row": null,
      "grid_template_areas": null,
      "grid_template_columns": null,
      "grid_template_rows": null,
      "height": null,
      "justify_content": null,
      "justify_items": null,
      "left": null,
      "margin": null,
      "max_height": null,
      "max_width": null,
      "min_height": null,
      "min_width": null,
      "object_fit": null,
      "object_position": null,
      "order": null,
      "overflow": null,
      "overflow_x": null,
      "overflow_y": null,
      "padding": null,
      "right": null,
      "top": null,
      "visibility": null,
      "width": null
     }
    },
    "787644406f614422a73206d465cb6c9b": {
     "model_module": "@jupyter-widgets/controls",
     "model_module_version": "1.5.0",
     "model_name": "IntTextModel",
     "state": {
      "_dom_classes": [],
      "_model_module": "@jupyter-widgets/controls",
      "_model_module_version": "1.5.0",
      "_model_name": "IntTextModel",
      "_view_count": null,
      "_view_module": "@jupyter-widgets/controls",
      "_view_module_version": "1.5.0",
      "_view_name": "IntTextView",
      "continuous_update": false,
      "description": "Target Rate (PKR/USD):",
      "description_tooltip": null,
      "disabled": false,
      "layout": "IPY_MODEL_3520f7a7ef63493f808a7735cbbc287b",
      "step": 1,
      "style": "IPY_MODEL_44c006762f374a21a0c2d3e88f9f6cd9",
      "value": 300
     }
    },
    "7a22fb86a9fb47748442711c7aa520d3": {
     "model_module": "@jupyter-widgets/controls",
     "model_module_version": "1.5.0",
     "model_name": "ButtonStyleModel",
     "state": {
      "_model_module": "@jupyter-widgets/controls",
      "_model_module_version": "1.5.0",
      "_model_name": "ButtonStyleModel",
      "_view_count": null,
      "_view_module": "@jupyter-widgets/base",
      "_view_module_version": "1.2.0",
      "_view_name": "StyleView",
      "button_color": null,
      "font_weight": ""
     }
    },
    "7afe85aac9a8464488508f368ad16707": {
     "model_module": "@jupyter-widgets/base",
     "model_module_version": "1.2.0",
     "model_name": "LayoutModel",
     "state": {
      "_model_module": "@jupyter-widgets/base",
      "_model_module_version": "1.2.0",
      "_model_name": "LayoutModel",
      "_view_count": null,
      "_view_module": "@jupyter-widgets/base",
      "_view_module_version": "1.2.0",
      "_view_name": "LayoutView",
      "align_content": null,
      "align_items": null,
      "align_self": null,
      "border": null,
      "bottom": null,
      "display": null,
      "flex": null,
      "flex_flow": null,
      "grid_area": null,
      "grid_auto_columns": null,
      "grid_auto_flow": null,
      "grid_auto_rows": null,
      "grid_column": null,
      "grid_gap": null,
      "grid_row": null,
      "grid_template_areas": null,
      "grid_template_columns": null,
      "grid_template_rows": null,
      "height": null,
      "justify_content": null,
      "justify_items": null,
      "left": null,
      "margin": null,
      "max_height": null,
      "max_width": null,
      "min_height": null,
      "min_width": null,
      "object_fit": null,
      "object_position": null,
      "order": null,
      "overflow": null,
      "overflow_x": null,
      "overflow_y": null,
      "padding": null,
      "right": null,
      "top": null,
      "visibility": null,
      "width": null
     }
    },
    "7fa03ade84554f0a8d5d69f4257d9813": {
     "model_module": "@jupyter-widgets/base",
     "model_module_version": "1.2.0",
     "model_name": "LayoutModel",
     "state": {
      "_model_module": "@jupyter-widgets/base",
      "_model_module_version": "1.2.0",
      "_model_name": "LayoutModel",
      "_view_count": null,
      "_view_module": "@jupyter-widgets/base",
      "_view_module_version": "1.2.0",
      "_view_name": "LayoutView",
      "align_content": null,
      "align_items": null,
      "align_self": null,
      "border": null,
      "bottom": null,
      "display": null,
      "flex": null,
      "flex_flow": null,
      "grid_area": null,
      "grid_auto_columns": null,
      "grid_auto_flow": null,
      "grid_auto_rows": null,
      "grid_column": null,
      "grid_gap": null,
      "grid_row": null,
      "grid_template_areas": null,
      "grid_template_columns": null,
      "grid_template_rows": null,
      "height": null,
      "justify_content": null,
      "justify_items": null,
      "left": null,
      "margin": null,
      "max_height": null,
      "max_width": null,
      "min_height": null,
      "min_width": null,
      "object_fit": null,
      "object_position": null,
      "order": null,
      "overflow": null,
      "overflow_x": null,
      "overflow_y": null,
      "padding": null,
      "right": null,
      "top": null,
      "visibility": null,
      "width": null
     }
    },
    "8c11969ed17145dca9083068c84f6435": {
     "model_module": "@jupyter-widgets/controls",
     "model_module_version": "1.5.0",
     "model_name": "DescriptionStyleModel",
     "state": {
      "_model_module": "@jupyter-widgets/controls",
      "_model_module_version": "1.5.0",
      "_model_name": "DescriptionStyleModel",
      "_view_count": null,
      "_view_module": "@jupyter-widgets/base",
      "_view_module_version": "1.2.0",
      "_view_name": "StyleView",
      "description_width": ""
     }
    },
    "92cd5b1638a0487c9ad23667e9df8264": {
     "model_module": "@jupyter-widgets/output",
     "model_module_version": "1.0.0",
     "model_name": "OutputModel",
     "state": {
      "_dom_classes": [],
      "_model_module": "@jupyter-widgets/output",
      "_model_module_version": "1.0.0",
      "_model_name": "OutputModel",
      "_view_count": null,
      "_view_module": "@jupyter-widgets/output",
      "_view_module_version": "1.0.0",
      "_view_name": "OutputView",
      "layout": "IPY_MODEL_c7ee2f60194040399438819078edf614",
      "msg_id": "",
      "outputs": [
       {
        "name": "stdout",
        "output_type": "stream",
        "text": [
         "Current Stock Price: 100.0 PKR\n",
         "Monitoring completed.\n"
        ]
       },
       {
        "name": "stdout",
        "output_type": "stream",
        "text": [
         "Current Stock Price: 100.0 PKR\n",
         "Stock price hit 220.0 PKR. Selling the stock!\n",
         "Monitoring completed.\n"
        ]
       }
      ]
     }
    },
    "931772e708dc4ebaab00cafb04dd62f8": {
     "model_module": "@jupyter-widgets/controls",
     "model_module_version": "1.5.0",
     "model_name": "IntTextModel",
     "state": {
      "_dom_classes": [],
      "_model_module": "@jupyter-widgets/controls",
      "_model_module_version": "1.5.0",
      "_model_name": "IntTextModel",
      "_view_count": null,
      "_view_module": "@jupyter-widgets/controls",
      "_view_module_version": "1.5.0",
      "_view_name": "IntTextView",
      "continuous_update": false,
      "description": "Monthly Payment (PKR):",
      "description_tooltip": null,
      "disabled": false,
      "layout": "IPY_MODEL_7595d375383d413b80793a319def8525",
      "step": 1,
      "style": "IPY_MODEL_00e05dc026044a4189f1310056081820",
      "value": 25000
     }
    },
    "95634a066a6c46859c9b32275f3a40d3": {
     "model_module": "@jupyter-widgets/output",
     "model_module_version": "1.0.0",
     "model_name": "OutputModel",
     "state": {
      "_dom_classes": [],
      "_model_module": "@jupyter-widgets/output",
      "_model_module_version": "1.0.0",
      "_model_name": "OutputModel",
      "_view_count": null,
      "_view_module": "@jupyter-widgets/output",
      "_view_module_version": "1.0.0",
      "_view_name": "OutputView",
      "layout": "IPY_MODEL_dd66a86d57f743d391005e78ef701211",
      "msg_id": "",
      "outputs": [
       {
        "name": "stdout",
        "output_type": "stream",
        "text": [
         "Loan Rejected: Credit Score below threshold\n"
        ]
       },
       {
        "name": "stdout",
        "output_type": "stream",
        "text": [
         "Loan Approved with 5% Interest Rate\n"
        ]
       }
      ]
     }
    },
    "96e7801d6fac4fdf80419b8d3d450f3c": {
     "model_module": "@jupyter-widgets/controls",
     "model_module_version": "1.5.0",
     "model_name": "TextModel",
     "state": {
      "_dom_classes": [],
      "_model_module": "@jupyter-widgets/controls",
      "_model_module_version": "1.5.0",
      "_model_name": "TextModel",
      "_view_count": null,
      "_view_module": "@jupyter-widgets/controls",
      "_view_module_version": "1.5.0",
      "_view_name": "TextView",
      "continuous_update": true,
      "description": "Stock Prices:",
      "description_tooltip": null,
      "disabled": false,
      "layout": "IPY_MODEL_f50040995134446b9d834da031974aa4",
      "placeholder": "​",
      "style": "IPY_MODEL_a18aff98bb5e4215af9e586297e08a62",
      "value": "100 ,220"
     }
    },
    "9794fab679824246b3013ce5437b74fa": {
     "model_module": "@jupyter-widgets/base",
     "model_module_version": "1.2.0",
     "model_name": "LayoutModel",
     "state": {
      "_model_module": "@jupyter-widgets/base",
      "_model_module_version": "1.2.0",
      "_model_name": "LayoutModel",
      "_view_count": null,
      "_view_module": "@jupyter-widgets/base",
      "_view_module_version": "1.2.0",
      "_view_name": "LayoutView",
      "align_content": null,
      "align_items": null,
      "align_self": null,
      "border": null,
      "bottom": null,
      "display": null,
      "flex": null,
      "flex_flow": null,
      "grid_area": null,
      "grid_auto_columns": null,
      "grid_auto_flow": null,
      "grid_auto_rows": null,
      "grid_column": null,
      "grid_gap": null,
      "grid_row": null,
      "grid_template_areas": null,
      "grid_template_columns": null,
      "grid_template_rows": null,
      "height": null,
      "justify_content": null,
      "justify_items": null,
      "left": null,
      "margin": null,
      "max_height": null,
      "max_width": null,
      "min_height": null,
      "min_width": null,
      "object_fit": null,
      "object_position": null,
      "order": null,
      "overflow": null,
      "overflow_x": null,
      "overflow_y": null,
      "padding": null,
      "right": null,
      "top": null,
      "visibility": null,
      "width": null
     }
    },
    "99e81a4c66804aca804d144a5356f641": {
     "model_module": "@jupyter-widgets/controls",
     "model_module_version": "1.5.0",
     "model_name": "DescriptionStyleModel",
     "state": {
      "_model_module": "@jupyter-widgets/controls",
      "_model_module_version": "1.5.0",
      "_model_name": "DescriptionStyleModel",
      "_view_count": null,
      "_view_module": "@jupyter-widgets/base",
      "_view_module_version": "1.2.0",
      "_view_name": "StyleView",
      "description_width": ""
     }
    },
    "a002a568c65646799bbf9f1664a6106f": {
     "model_module": "@jupyter-widgets/base",
     "model_module_version": "1.2.0",
     "model_name": "LayoutModel",
     "state": {
      "_model_module": "@jupyter-widgets/base",
      "_model_module_version": "1.2.0",
      "_model_name": "LayoutModel",
      "_view_count": null,
      "_view_module": "@jupyter-widgets/base",
      "_view_module_version": "1.2.0",
      "_view_name": "LayoutView",
      "align_content": null,
      "align_items": null,
      "align_self": null,
      "border": null,
      "bottom": null,
      "display": null,
      "flex": null,
      "flex_flow": null,
      "grid_area": null,
      "grid_auto_columns": null,
      "grid_auto_flow": null,
      "grid_auto_rows": null,
      "grid_column": null,
      "grid_gap": null,
      "grid_row": null,
      "grid_template_areas": null,
      "grid_template_columns": null,
      "grid_template_rows": null,
      "height": null,
      "justify_content": null,
      "justify_items": null,
      "left": null,
      "margin": null,
      "max_height": null,
      "max_width": null,
      "min_height": null,
      "min_width": null,
      "object_fit": null,
      "object_position": null,
      "order": null,
      "overflow": null,
      "overflow_x": null,
      "overflow_y": null,
      "padding": null,
      "right": null,
      "top": null,
      "visibility": null,
      "width": null
     }
    },
    "a18aff98bb5e4215af9e586297e08a62": {
     "model_module": "@jupyter-widgets/controls",
     "model_module_version": "1.5.0",
     "model_name": "DescriptionStyleModel",
     "state": {
      "_model_module": "@jupyter-widgets/controls",
      "_model_module_version": "1.5.0",
      "_model_name": "DescriptionStyleModel",
      "_view_count": null,
      "_view_module": "@jupyter-widgets/base",
      "_view_module_version": "1.2.0",
      "_view_name": "StyleView",
      "description_width": ""
     }
    },
    "a3006c90ed2d40f0aa8a9a0846175c89": {
     "model_module": "@jupyter-widgets/controls",
     "model_module_version": "1.5.0",
     "model_name": "DescriptionStyleModel",
     "state": {
      "_model_module": "@jupyter-widgets/controls",
      "_model_module_version": "1.5.0",
      "_model_name": "DescriptionStyleModel",
      "_view_count": null,
      "_view_module": "@jupyter-widgets/base",
      "_view_module_version": "1.2.0",
      "_view_name": "StyleView",
      "description_width": ""
     }
    },
    "a8985bdd7b2d423f9bdbb27f60dfbd51": {
     "model_module": "@jupyter-widgets/base",
     "model_module_version": "1.2.0",
     "model_name": "LayoutModel",
     "state": {
      "_model_module": "@jupyter-widgets/base",
      "_model_module_version": "1.2.0",
      "_model_name": "LayoutModel",
      "_view_count": null,
      "_view_module": "@jupyter-widgets/base",
      "_view_module_version": "1.2.0",
      "_view_name": "LayoutView",
      "align_content": null,
      "align_items": null,
      "align_self": null,
      "border": null,
      "bottom": null,
      "display": null,
      "flex": null,
      "flex_flow": null,
      "grid_area": null,
      "grid_auto_columns": null,
      "grid_auto_flow": null,
      "grid_auto_rows": null,
      "grid_column": null,
      "grid_gap": null,
      "grid_row": null,
      "grid_template_areas": null,
      "grid_template_columns": null,
      "grid_template_rows": null,
      "height": null,
      "justify_content": null,
      "justify_items": null,
      "left": null,
      "margin": null,
      "max_height": null,
      "max_width": null,
      "min_height": null,
      "min_width": null,
      "object_fit": null,
      "object_position": null,
      "order": null,
      "overflow": null,
      "overflow_x": null,
      "overflow_y": null,
      "padding": null,
      "right": null,
      "top": null,
      "visibility": null,
      "width": null
     }
    },
    "b0a424d6a3cc47019a6f7be6619966df": {
     "model_module": "@jupyter-widgets/output",
     "model_module_version": "1.0.0",
     "model_name": "OutputModel",
     "state": {
      "_dom_classes": [],
      "_model_module": "@jupyter-widgets/output",
      "_model_module_version": "1.0.0",
      "_model_name": "OutputModel",
      "_view_count": null,
      "_view_module": "@jupyter-widgets/output",
      "_view_module_version": "1.0.0",
      "_view_name": "OutputView",
      "layout": "IPY_MODEL_7fa03ade84554f0a8d5d69f4257d9813",
      "msg_id": "",
      "outputs": [
       {
        "name": "stdout",
        "output_type": "stream",
        "text": [
         "Month {months}: Remaining Balance = {loan_balance} PKR\n",
         "Month {months}: Remaining Balance = {loan_balance} PKR\n",
         "Month {months}: Remaining Balance = {loan_balance} PKR\n",
         "Month {months}: Remaining Balance = {loan_balance} PKR\n",
         "Month {months}: Remaining Balance = {loan_balance} PKR\n",
         "Month {months}: Remaining Balance = {loan_balance} PKR\n",
         "Month {months}: Remaining Balance = {loan_balance} PKR\n",
         "Month {months}: Remaining Balance = {loan_balance} PKR\n",
         "Month {months}: Remaining Balance = {loan_balance} PKR\n",
         "Month {months}: Remaining Balance = {loan_balance} PKR\n",
         "Month {months}: Remaining Balance = {loan_balance} PKR\n",
         "Month {months}: Remaining Balance = {loan_balance} PKR\n",
         "Month {months}: Remaining Balance = {loan_balance} PKR\n",
         "Month {months}: Remaining Balance = {loan_balance} PKR\n",
         "Month {months}: Remaining Balance = {loan_balance} PKR\n",
         "Month {months}: Remaining Balance = {loan_balance} PKR\n",
         "Month {months}: Remaining Balance = {loan_balance} PKR\n",
         "Month {months}: Remaining Balance = {loan_balance} PKR\n",
         "Month {months}: Remaining Balance = {loan_balance} PKR\n",
         "Month {months}: Remaining Balance = {loan_balance} PKR\n",
         "Loan Fully Paid in {months} months.\n"
        ]
       }
      ]
     }
    },
    "b30e2ca3cf1946f3a9c0f3a74e3806bb": {
     "model_module": "@jupyter-widgets/controls",
     "model_module_version": "1.5.0",
     "model_name": "DescriptionStyleModel",
     "state": {
      "_model_module": "@jupyter-widgets/controls",
      "_model_module_version": "1.5.0",
      "_model_name": "DescriptionStyleModel",
      "_view_count": null,
      "_view_module": "@jupyter-widgets/base",
      "_view_module_version": "1.2.0",
      "_view_name": "StyleView",
      "description_width": ""
     }
    },
    "bd6ebc1a08174f0cbb3bdd9a26a4dfcc": {
     "model_module": "@jupyter-widgets/controls",
     "model_module_version": "1.5.0",
     "model_name": "DropdownModel",
     "state": {
      "_dom_classes": [],
      "_model_module": "@jupyter-widgets/controls",
      "_model_module_version": "1.5.0",
      "_model_name": "DropdownModel",
      "_options_labels": [
       "Employed",
       "Unemployed"
      ],
      "_view_count": null,
      "_view_module": "@jupyter-widgets/controls",
      "_view_module_version": "1.5.0",
      "_view_name": "DropdownView",
      "description": "Employment:",
      "description_tooltip": null,
      "disabled": false,
      "index": 0,
      "layout": "IPY_MODEL_ecdaf7a989ab4bb1a04404da491dfd09",
      "style": "IPY_MODEL_dfa6f509668b4540a8d773561a09b6ba"
     }
    },
    "c16049111e9a4fa9bf9fe4f9fc1cd56d": {
     "model_module": "@jupyter-widgets/controls",
     "model_module_version": "1.5.0",
     "model_name": "IntTextModel",
     "state": {
      "_dom_classes": [],
      "_model_module": "@jupyter-widgets/controls",
      "_model_module_version": "1.5.0",
      "_model_name": "IntTextModel",
      "_view_count": null,
      "_view_module": "@jupyter-widgets/controls",
      "_view_module_version": "1.5.0",
      "_view_name": "IntTextView",
      "continuous_update": false,
      "description": "Start Rate (PKR/USD):",
      "description_tooltip": null,
      "disabled": false,
      "layout": "IPY_MODEL_a002a568c65646799bbf9f1664a6106f",
      "step": 1,
      "style": "IPY_MODEL_a3006c90ed2d40f0aa8a9a0846175c89",
      "value": 290
     }
    },
    "c7ee2f60194040399438819078edf614": {
     "model_module": "@jupyter-widgets/base",
     "model_module_version": "1.2.0",
     "model_name": "LayoutModel",
     "state": {
      "_model_module": "@jupyter-widgets/base",
      "_model_module_version": "1.2.0",
      "_model_name": "LayoutModel",
      "_view_count": null,
      "_view_module": "@jupyter-widgets/base",
      "_view_module_version": "1.2.0",
      "_view_name": "LayoutView",
      "align_content": null,
      "align_items": null,
      "align_self": null,
      "border": null,
      "bottom": null,
      "display": null,
      "flex": null,
      "flex_flow": null,
      "grid_area": null,
      "grid_auto_columns": null,
      "grid_auto_flow": null,
      "grid_auto_rows": null,
      "grid_column": null,
      "grid_gap": null,
      "grid_row": null,
      "grid_template_areas": null,
      "grid_template_columns": null,
      "grid_template_rows": null,
      "height": null,
      "justify_content": null,
      "justify_items": null,
      "left": null,
      "margin": null,
      "max_height": null,
      "max_width": null,
      "min_height": null,
      "min_width": null,
      "object_fit": null,
      "object_position": null,
      "order": null,
      "overflow": null,
      "overflow_x": null,
      "overflow_y": null,
      "padding": null,
      "right": null,
      "top": null,
      "visibility": null,
      "width": null
     }
    },
    "c87cc686ecd74619a203cf4dd37d5d32": {
     "model_module": "@jupyter-widgets/controls",
     "model_module_version": "1.5.0",
     "model_name": "IntTextModel",
     "state": {
      "_dom_classes": [],
      "_model_module": "@jupyter-widgets/controls",
      "_model_module_version": "1.5.0",
      "_model_name": "IntTextModel",
      "_view_count": null,
      "_view_module": "@jupyter-widgets/controls",
      "_view_module_version": "1.5.0",
      "_view_name": "IntTextView",
      "continuous_update": false,
      "description": "Increment (PKR):",
      "description_tooltip": null,
      "disabled": false,
      "layout": "IPY_MODEL_fea8e61570bd4c5ab03649573447e610",
      "step": 1,
      "style": "IPY_MODEL_8c11969ed17145dca9083068c84f6435",
      "value": 1
     }
    },
    "dd66a86d57f743d391005e78ef701211": {
     "model_module": "@jupyter-widgets/base",
     "model_module_version": "1.2.0",
     "model_name": "LayoutModel",
     "state": {
      "_model_module": "@jupyter-widgets/base",
      "_model_module_version": "1.2.0",
      "_model_name": "LayoutModel",
      "_view_count": null,
      "_view_module": "@jupyter-widgets/base",
      "_view_module_version": "1.2.0",
      "_view_name": "LayoutView",
      "align_content": null,
      "align_items": null,
      "align_self": null,
      "border": null,
      "bottom": null,
      "display": null,
      "flex": null,
      "flex_flow": null,
      "grid_area": null,
      "grid_auto_columns": null,
      "grid_auto_flow": null,
      "grid_auto_rows": null,
      "grid_column": null,
      "grid_gap": null,
      "grid_row": null,
      "grid_template_areas": null,
      "grid_template_columns": null,
      "grid_template_rows": null,
      "height": null,
      "justify_content": null,
      "justify_items": null,
      "left": null,
      "margin": null,
      "max_height": null,
      "max_width": null,
      "min_height": null,
      "min_width": null,
      "object_fit": null,
      "object_position": null,
      "order": null,
      "overflow": null,
      "overflow_x": null,
      "overflow_y": null,
      "padding": null,
      "right": null,
      "top": null,
      "visibility": null,
      "width": null
     }
    },
    "dfa6f509668b4540a8d773561a09b6ba": {
     "model_module": "@jupyter-widgets/controls",
     "model_module_version": "1.5.0",
     "model_name": "DescriptionStyleModel",
     "state": {
      "_model_module": "@jupyter-widgets/controls",
      "_model_module_version": "1.5.0",
      "_model_name": "DescriptionStyleModel",
      "_view_count": null,
      "_view_module": "@jupyter-widgets/base",
      "_view_module_version": "1.2.0",
      "_view_name": "StyleView",
      "description_width": ""
     }
    },
    "e27b3ca3e11c4993abccdd721304afa1": {
     "model_module": "@jupyter-widgets/base",
     "model_module_version": "1.2.0",
     "model_name": "LayoutModel",
     "state": {
      "_model_module": "@jupyter-widgets/base",
      "_model_module_version": "1.2.0",
      "_model_name": "LayoutModel",
      "_view_count": null,
      "_view_module": "@jupyter-widgets/base",
      "_view_module_version": "1.2.0",
      "_view_name": "LayoutView",
      "align_content": null,
      "align_items": null,
      "align_self": null,
      "border": null,
      "bottom": null,
      "display": null,
      "flex": null,
      "flex_flow": null,
      "grid_area": null,
      "grid_auto_columns": null,
      "grid_auto_flow": null,
      "grid_auto_rows": null,
      "grid_column": null,
      "grid_gap": null,
      "grid_row": null,
      "grid_template_areas": null,
      "grid_template_columns": null,
      "grid_template_rows": null,
      "height": null,
      "justify_content": null,
      "justify_items": null,
      "left": null,
      "margin": null,
      "max_height": null,
      "max_width": null,
      "min_height": null,
      "min_width": null,
      "object_fit": null,
      "object_position": null,
      "order": null,
      "overflow": null,
      "overflow_x": null,
      "overflow_y": null,
      "padding": null,
      "right": null,
      "top": null,
      "visibility": null,
      "width": null
     }
    },
    "ea644f594ae64ec48ba5991f8e32bb18": {
     "model_module": "@jupyter-widgets/base",
     "model_module_version": "1.2.0",
     "model_name": "LayoutModel",
     "state": {
      "_model_module": "@jupyter-widgets/base",
      "_model_module_version": "1.2.0",
      "_model_name": "LayoutModel",
      "_view_count": null,
      "_view_module": "@jupyter-widgets/base",
      "_view_module_version": "1.2.0",
      "_view_name": "LayoutView",
      "align_content": null,
      "align_items": null,
      "align_self": null,
      "border": null,
      "bottom": null,
      "display": null,
      "flex": null,
      "flex_flow": null,
      "grid_area": null,
      "grid_auto_columns": null,
      "grid_auto_flow": null,
      "grid_auto_rows": null,
      "grid_column": null,
      "grid_gap": null,
      "grid_row": null,
      "grid_template_areas": null,
      "grid_template_columns": null,
      "grid_template_rows": null,
      "height": null,
      "justify_content": null,
      "justify_items": null,
      "left": null,
      "margin": null,
      "max_height": null,
      "max_width": null,
      "min_height": null,
      "min_width": null,
      "object_fit": null,
      "object_position": null,
      "order": null,
      "overflow": null,
      "overflow_x": null,
      "overflow_y": null,
      "padding": null,
      "right": null,
      "top": null,
      "visibility": null,
      "width": null
     }
    },
    "ec6e78dc9125448597266c7d23580e40": {
     "model_module": "@jupyter-widgets/controls",
     "model_module_version": "1.5.0",
     "model_name": "TextModel",
     "state": {
      "_dom_classes": [],
      "_model_module": "@jupyter-widgets/controls",
      "_model_module_version": "1.5.0",
      "_model_name": "TextModel",
      "_view_count": null,
      "_view_module": "@jupyter-widgets/controls",
      "_view_module_version": "1.5.0",
      "_view_name": "TextView",
      "continuous_update": true,
      "description": "Stock Returns:",
      "description_tooltip": null,
      "disabled": false,
      "layout": "IPY_MODEL_7493b105288440bfb01085f8925842c3",
      "placeholder": "​",
      "style": "IPY_MODEL_b30e2ca3cf1946f3a9c0f3a74e3806bb",
      "value": "100"
     }
    },
    "ecdaf7a989ab4bb1a04404da491dfd09": {
     "model_module": "@jupyter-widgets/base",
     "model_module_version": "1.2.0",
     "model_name": "LayoutModel",
     "state": {
      "_model_module": "@jupyter-widgets/base",
      "_model_module_version": "1.2.0",
      "_model_name": "LayoutModel",
      "_view_count": null,
      "_view_module": "@jupyter-widgets/base",
      "_view_module_version": "1.2.0",
      "_view_name": "LayoutView",
      "align_content": null,
      "align_items": null,
      "align_self": null,
      "border": null,
      "bottom": null,
      "display": null,
      "flex": null,
      "flex_flow": null,
      "grid_area": null,
      "grid_auto_columns": null,
      "grid_auto_flow": null,
      "grid_auto_rows": null,
      "grid_column": null,
      "grid_gap": null,
      "grid_row": null,
      "grid_template_areas": null,
      "grid_template_columns": null,
      "grid_template_rows": null,
      "height": null,
      "justify_content": null,
      "justify_items": null,
      "left": null,
      "margin": null,
      "max_height": null,
      "max_width": null,
      "min_height": null,
      "min_width": null,
      "object_fit": null,
      "object_position": null,
      "order": null,
      "overflow": null,
      "overflow_x": null,
      "overflow_y": null,
      "padding": null,
      "right": null,
      "top": null,
      "visibility": null,
      "width": null
     }
    },
    "eddf5b2970334dfbb29fab751c3aaafb": {
     "model_module": "@jupyter-widgets/base",
     "model_module_version": "1.2.0",
     "model_name": "LayoutModel",
     "state": {
      "_model_module": "@jupyter-widgets/base",
      "_model_module_version": "1.2.0",
      "_model_name": "LayoutModel",
      "_view_count": null,
      "_view_module": "@jupyter-widgets/base",
      "_view_module_version": "1.2.0",
      "_view_name": "LayoutView",
      "align_content": null,
      "align_items": null,
      "align_self": null,
      "border": null,
      "bottom": null,
      "display": null,
      "flex": null,
      "flex_flow": null,
      "grid_area": null,
      "grid_auto_columns": null,
      "grid_auto_flow": null,
      "grid_auto_rows": null,
      "grid_column": null,
      "grid_gap": null,
      "grid_row": null,
      "grid_template_areas": null,
      "grid_template_columns": null,
      "grid_template_rows": null,
      "height": null,
      "justify_content": null,
      "justify_items": null,
      "left": null,
      "margin": null,
      "max_height": null,
      "max_width": null,
      "min_height": null,
      "min_width": null,
      "object_fit": null,
      "object_position": null,
      "order": null,
      "overflow": null,
      "overflow_x": null,
      "overflow_y": null,
      "padding": null,
      "right": null,
      "top": null,
      "visibility": null,
      "width": null
     }
    },
    "f50040995134446b9d834da031974aa4": {
     "model_module": "@jupyter-widgets/base",
     "model_module_version": "1.2.0",
     "model_name": "LayoutModel",
     "state": {
      "_model_module": "@jupyter-widgets/base",
      "_model_module_version": "1.2.0",
      "_model_name": "LayoutModel",
      "_view_count": null,
      "_view_module": "@jupyter-widgets/base",
      "_view_module_version": "1.2.0",
      "_view_name": "LayoutView",
      "align_content": null,
      "align_items": null,
      "align_self": null,
      "border": null,
      "bottom": null,
      "display": null,
      "flex": null,
      "flex_flow": null,
      "grid_area": null,
      "grid_auto_columns": null,
      "grid_auto_flow": null,
      "grid_auto_rows": null,
      "grid_column": null,
      "grid_gap": null,
      "grid_row": null,
      "grid_template_areas": null,
      "grid_template_columns": null,
      "grid_template_rows": null,
      "height": null,
      "justify_content": null,
      "justify_items": null,
      "left": null,
      "margin": null,
      "max_height": null,
      "max_width": null,
      "min_height": null,
      "min_width": null,
      "object_fit": null,
      "object_position": null,
      "order": null,
      "overflow": null,
      "overflow_x": null,
      "overflow_y": null,
      "padding": null,
      "right": null,
      "top": null,
      "visibility": null,
      "width": null
     }
    },
    "f61d6f1e79f04c73bf0f08dee7b26083": {
     "model_module": "@jupyter-widgets/controls",
     "model_module_version": "1.5.0",
     "model_name": "ButtonModel",
     "state": {
      "_dom_classes": [],
      "_model_module": "@jupyter-widgets/controls",
      "_model_module_version": "1.5.0",
      "_model_name": "ButtonModel",
      "_view_count": null,
      "_view_module": "@jupyter-widgets/controls",
      "_view_module_version": "1.5.0",
      "_view_name": "ButtonView",
      "button_style": "",
      "description": "Check Loan Eligibility",
      "disabled": false,
      "icon": "",
      "layout": "IPY_MODEL_fe0ebd762dec487ebf02b1d7d7f09162",
      "style": "IPY_MODEL_555f58f65f0443ee8f7f7ab1f40c1885",
      "tooltip": ""
     }
    },
    "fe0ebd762dec487ebf02b1d7d7f09162": {
     "model_module": "@jupyter-widgets/base",
     "model_module_version": "1.2.0",
     "model_name": "LayoutModel",
     "state": {
      "_model_module": "@jupyter-widgets/base",
      "_model_module_version": "1.2.0",
      "_model_name": "LayoutModel",
      "_view_count": null,
      "_view_module": "@jupyter-widgets/base",
      "_view_module_version": "1.2.0",
      "_view_name": "LayoutView",
      "align_content": null,
      "align_items": null,
      "align_self": null,
      "border": null,
      "bottom": null,
      "display": null,
      "flex": null,
      "flex_flow": null,
      "grid_area": null,
      "grid_auto_columns": null,
      "grid_auto_flow": null,
      "grid_auto_rows": null,
      "grid_column": null,
      "grid_gap": null,
      "grid_row": null,
      "grid_template_areas": null,
      "grid_template_columns": null,
      "grid_template_rows": null,
      "height": null,
      "justify_content": null,
      "justify_items": null,
      "left": null,
      "margin": null,
      "max_height": null,
      "max_width": null,
      "min_height": null,
      "min_width": null,
      "object_fit": null,
      "object_position": null,
      "order": null,
      "overflow": null,
      "overflow_x": null,
      "overflow_y": null,
      "padding": null,
      "right": null,
      "top": null,
      "visibility": null,
      "width": null
     }
    },
    "fea8e61570bd4c5ab03649573447e610": {
     "model_module": "@jupyter-widgets/base",
     "model_module_version": "1.2.0",
     "model_name": "LayoutModel",
     "state": {
      "_model_module": "@jupyter-widgets/base",
      "_model_module_version": "1.2.0",
      "_model_name": "LayoutModel",
      "_view_count": null,
      "_view_module": "@jupyter-widgets/base",
      "_view_module_version": "1.2.0",
      "_view_name": "LayoutView",
      "align_content": null,
      "align_items": null,
      "align_self": null,
      "border": null,
      "bottom": null,
      "display": null,
      "flex": null,
      "flex_flow": null,
      "grid_area": null,
      "grid_auto_columns": null,
      "grid_auto_flow": null,
      "grid_auto_rows": null,
      "grid_column": null,
      "grid_gap": null,
      "grid_row": null,
      "grid_template_areas": null,
      "grid_template_columns": null,
      "grid_template_rows": null,
      "height": null,
      "justify_content": null,
      "justify_items": null,
      "left": null,
      "margin": null,
      "max_height": null,
      "max_width": null,
      "min_height": null,
      "min_width": null,
      "object_fit": null,
      "object_position": null,
      "order": null,
      "overflow": null,
      "overflow_x": null,
      "overflow_y": null,
      "padding": null,
      "right": null,
      "top": null,
      "visibility": null,
      "width": null
     }
    }
   }
  }
 },
 "nbformat": 4,
 "nbformat_minor": 0
}
